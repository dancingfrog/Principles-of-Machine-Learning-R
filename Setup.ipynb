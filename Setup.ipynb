{
 "cells": [
  {
   "cell_type": "markdown",
   "metadata": {},
   "source": [
    "## R Package Installation\n",
    "Execute the code in the cell below in order to install the packages required for this course. "
   ]
  },
  {
   "cell_type": "code",
   "execution_count": 1,
   "metadata": {},
   "outputs": [
    {
     "name": "stderr",
     "output_type": "stream",
     "text": [
      "Installing packages into ‘/home/revlin/R/x86_64-redhat-linux-gnu-library/3.6’\n",
      "(as ‘lib’ is unspecified)\n",
      "\n",
      "also installing the dependencies ‘numDeriv’, ‘SQUAREM’, ‘lava’, ‘prodlim’, ‘httpuv’, ‘iterators’, ‘data.table’, ‘gower’, ‘ipred’, ‘timeDate’, ‘gtools’, ‘gdata’, ‘caTools’, ‘shiny’, ‘miniUI’, ‘labelled’, ‘foreach’, ‘ModelMetrics’, ‘recipes’, ‘reshape’, ‘gplots’, ‘combinat’, ‘questionr’\n",
      "\n",
      "\n",
      "Warning message in install.packages(c(\"caret\", \"ggplot2\", \"dplyr\", \"gridExtra\", :\n",
      "“installation of package ‘httpuv’ had non-zero exit status”\n",
      "Warning message in install.packages(c(\"caret\", \"ggplot2\", \"dplyr\", \"gridExtra\", :\n",
      "“installation of package ‘shiny’ had non-zero exit status”\n",
      "Warning message in install.packages(c(\"caret\", \"ggplot2\", \"dplyr\", \"gridExtra\", :\n",
      "“installation of package ‘miniUI’ had non-zero exit status”\n",
      "Warning message in install.packages(c(\"caret\", \"ggplot2\", \"dplyr\", \"gridExtra\", :\n",
      "“installation of package ‘questionr’ had non-zero exit status”\n",
      "Warning message in install.packages(c(\"caret\", \"ggplot2\", \"dplyr\", \"gridExtra\", :\n",
      "“installation of package ‘klaR’ had non-zero exit status”\n"
     ]
    }
   ],
   "source": [
    "\n",
    "install.packages(c(\"caret\",\"ggplot2\",\"dplyr\",\"gridExtra\",\"repr\",\"kknn\",\n",
    "                   \"hexbin\",\"GGally\",\"ROCR\",\"pROC\",\"glmnet\",\"MASS\",\"randomForest\",\n",
    "                   \"MLmetrics\",\"e1071\",\"klaR\",\"nnet\",\"cluster\"))"
   ]
  },
  {
   "cell_type": "code",
   "execution_count": null,
   "metadata": {},
   "outputs": [],
   "source": [
    "##Code note required for local execution.\n",
    "#system(\"mkdir -p ~/.R\", intern = TRUE)\n",
    "#system(\"cp ~/library/Makevars ~/.R/Makevars\", intern = TRUE)"
   ]
  }
 ],
 "metadata": {
  "kernelspec": {
   "display_name": "R",
   "language": "R",
   "name": "ir"
  },
  "language_info": {
   "codemirror_mode": "r",
   "file_extension": ".r",
   "mimetype": "text/x-r-source",
   "name": "R",
   "pygments_lexer": "r",
   "version": "3.6.3"
  }
 },
 "nbformat": 4,
 "nbformat_minor": 4
}
