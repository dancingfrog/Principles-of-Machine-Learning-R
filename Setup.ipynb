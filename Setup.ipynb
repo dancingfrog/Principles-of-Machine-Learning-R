{
 "cells": [
  {
   "cell_type": "markdown",
   "metadata": {},
   "source": [
    "## R Package Installation\n",
    "Execute the code in the cell below in order to install the packages required for this course. "
   ]
  },
  {
   "cell_type": "code",
   "execution_count": null,
   "metadata": {},
   "outputs": [
    {
     "name": "stderr",
     "output_type": "stream",
     "text": [
      "Installing packages into ‘/home/revlin/R/x86_64-redhat-linux-gnu-library/4.0’\n",
      "(as ‘lib’ is unspecified)\n",
      "\n",
      "also installing the dependencies ‘caTools’, ‘shiny’, ‘miniUI’, ‘igraph’, ‘gplots’, ‘questionr’\n",
      "\n",
      "\n",
      "Warning message in install.packages(c(\"caret\", \"ggplot2\", \"dplyr\", \"gridExtra\", :\n",
      "“installation of package ‘caTools’ had non-zero exit status”\n",
      "Warning message in install.packages(c(\"caret\", \"ggplot2\", \"dplyr\", \"gridExtra\", :\n",
      "“installation of package ‘igraph’ had non-zero exit status”\n",
      "Warning message in install.packages(c(\"caret\", \"ggplot2\", \"dplyr\", \"gridExtra\", :\n",
      "“installation of package ‘dplyr’ had non-zero exit status”\n",
      "Warning message in install.packages(c(\"caret\", \"ggplot2\", \"dplyr\", \"gridExtra\", :\n",
      "“installation of package ‘hexbin’ had non-zero exit status”\n",
      "Warning message in install.packages(c(\"caret\", \"ggplot2\", \"dplyr\", \"gridExtra\", :\n",
      "“installation of package ‘pROC’ had non-zero exit status”\n",
      "Warning message in install.packages(c(\"caret\", \"ggplot2\", \"dplyr\", \"gridExtra\", :\n",
      "“installation of package ‘glmnet’ had non-zero exit status”\n",
      "Warning message in install.packages(c(\"caret\", \"ggplot2\", \"dplyr\", \"gridExtra\", :\n",
      "“installation of package ‘MASS’ had non-zero exit status”\n",
      "Warning message in install.packages(c(\"caret\", \"ggplot2\", \"dplyr\", \"gridExtra\", :\n",
      "“installation of package ‘randomForest’ had non-zero exit status”\n",
      "Warning message in install.packages(c(\"caret\", \"ggplot2\", \"dplyr\", \"gridExtra\", :\n",
      "“installation of package ‘e1071’ had non-zero exit status”\n",
      "Warning message in install.packages(c(\"caret\", \"ggplot2\", \"dplyr\", \"gridExtra\", :\n",
      "“installation of package ‘nnet’ had non-zero exit status”\n",
      "Warning message in install.packages(c(\"caret\", \"ggplot2\", \"dplyr\", \"gridExtra\", :\n",
      "“installation of package ‘cluster’ had non-zero exit status”\n",
      "Warning message in install.packages(c(\"caret\", \"ggplot2\", \"dplyr\", \"gridExtra\", :\n",
      "“installation of package ‘gplots’ had non-zero exit status”\n"
     ]
    }
   ],
   "source": [
    "\n",
    "install.packages(c(\"caret\",\"ggplot2\",\"dplyr\",\"gridExtra\",\"repr\",\"kknn\",\n",
    "                   \"hexbin\",\"GGally\",\"ROCR\",\"pROC\",\"glmnet\",\"MASS\",\"randomForest\",\n",
    "                   \"MLmetrics\",\"e1071\",\"klaR\",\"nnet\",\"cluster\"))"
   ]
  },
  {
   "cell_type": "code",
   "execution_count": null,
   "metadata": {},
   "outputs": [],
   "source": [
    "##Code note required for local execution.\n",
    "#system(\"mkdir -p ~/.R\", intern = TRUE)\n",
    "#system(\"cp ~/library/Makevars ~/.R/Makevars\", intern = TRUE)"
   ]
  }
 ],
 "metadata": {
  "kernelspec": {
   "display_name": "R",
   "language": "R",
   "name": "ir"
  },
  "language_info": {
   "codemirror_mode": "r",
   "file_extension": ".r",
   "mimetype": "text/x-r-source",
   "name": "R",
   "pygments_lexer": "r",
   "version": "4.0.2"
  }
 },
 "nbformat": 4,
 "nbformat_minor": 4
}
